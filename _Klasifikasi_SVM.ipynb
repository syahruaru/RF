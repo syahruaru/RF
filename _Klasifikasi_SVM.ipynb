{
 "cells": [
  {
   "cell_type": "markdown",
   "metadata": {
    "id": "57757bc1"
   },
   "source": [
    "## Import Library"
   ]
  },
  {
   "cell_type": "code",
   "execution_count": 1,
   "metadata": {},
   "outputs": [],
   "source": [
    "from sklearn.svm import SVC\n",
    "from sklearn.metrics import classification_report\n",
    "from sklearn.model_selection import GridSearchCV\n",
    "from scipy.io import savemat, loadmat\n",
    "from sklearn.model_selection import train_test_split"
   ]
  },
  {
   "cell_type": "code",
   "execution_count": 2,
   "metadata": {},
   "outputs": [],
   "source": [
    "# load file\n",
    "folder = '../mat_files/4/'\n",
    "filename = 'dataset6Output.mat'\n",
    "dataset360 = loadmat(folder+filename)"
   ]
  },
  {
   "cell_type": "code",
   "execution_count": 3,
   "metadata": {},
   "outputs": [
    {
     "name": "stdout",
     "output_type": "stream",
     "text": [
      "['dataset untuk proses klasifikasi']\n"
     ]
    }
   ],
   "source": [
    "print(dataset360['label'])\n",
    "dataset = dataset360['dataset']"
   ]
  },
  {
   "cell_type": "code",
   "execution_count": 4,
   "metadata": {},
   "outputs": [
    {
     "data": {
      "text/plain": [
       "(360, 12, 10)"
      ]
     },
     "execution_count": 4,
     "metadata": {},
     "output_type": "execute_result"
    }
   ],
   "source": [
    "dataset.shape"
   ]
  },
  {
   "cell_type": "code",
   "execution_count": 5,
   "metadata": {},
   "outputs": [
    {
     "name": "stdout",
     "output_type": "stream",
     "text": [
      "['target untuk proses klasifikasi']\n"
     ]
    }
   ],
   "source": [
    "# load file\n",
    "folder = '../mat_files/4/'\n",
    "filename = 'target6Out.mat'\n",
    "target = loadmat(folder+filename)\n",
    "\n",
    "print(target['label'])\n",
    "target = target['target'][0]\n",
    "#print(target)"
   ]
  },
  {
   "cell_type": "code",
   "execution_count": 6,
   "metadata": {},
   "outputs": [
    {
     "data": {
      "text/plain": [
       "(360,)"
      ]
     },
     "execution_count": 6,
     "metadata": {},
     "output_type": "execute_result"
    }
   ],
   "source": [
    "target.shape"
   ]
  },
  {
   "cell_type": "code",
   "execution_count": 7,
   "metadata": {},
   "outputs": [],
   "source": [
    "int_array = target.astype(int)\n",
    "target = int_array"
   ]
  },
  {
   "cell_type": "code",
   "execution_count": 8,
   "metadata": {},
   "outputs": [
    {
     "name": "stdout",
     "output_type": "stream",
     "text": [
      "360 12 10\n",
      "(360, 120)\n",
      "<class 'numpy.ndarray'>\n"
     ]
    }
   ],
   "source": [
    "nsamples, nx, ny = dataset.shape\n",
    "print(nsamples, nx, ny)\n",
    "d2_train_dataset = dataset.reshape((nsamples,nx*ny))\n",
    "#print(d2_train_dataset)\n",
    "print(d2_train_dataset.shape)\n",
    "print(type(d2_train_dataset))"
   ]
  },
  {
   "cell_type": "code",
   "execution_count": 9,
   "metadata": {},
   "outputs": [
    {
     "name": "stdout",
     "output_type": "stream",
     "text": [
      "Dimensi data set: (360, 120)\n",
      "Class: {0, 1, 2, 3, 4, 5}\n"
     ]
    }
   ],
   "source": [
    "print(f'Dimensi data set: {d2_train_dataset.shape}')\n",
    "print(f'Class: {set(target)}')"
   ]
  },
  {
   "cell_type": "code",
   "execution_count": 10,
   "metadata": {},
   "outputs": [
    {
     "name": "stdout",
     "output_type": "stream",
     "text": [
      "(288, 120) (72, 120) (288,) (72,)\n"
     ]
    }
   ],
   "source": [
    "#Menggunakan library sklearn\n",
    "#Memisah dataset menjadi data training dan data test\n",
    "x_train, x_test, y_train, y_test = train_test_split(d2_train_dataset,target,test_size=0.2,random_state=12)\n",
    "print(x_train.shape, x_test.shape, y_train.shape, y_test.shape)"
   ]
  },
  {
   "cell_type": "code",
   "execution_count": 11,
   "metadata": {},
   "outputs": [
    {
     "data": {
      "text/plain": [
       "SVC(random_state=0)"
      ]
     },
     "execution_count": 11,
     "metadata": {},
     "output_type": "execute_result"
    }
   ],
   "source": [
    "model = SVC(random_state=0)\n",
    "model.fit(x_train, y_train)"
   ]
  },
  {
   "cell_type": "code",
   "execution_count": 12,
   "metadata": {},
   "outputs": [
    {
     "name": "stdout",
     "output_type": "stream",
     "text": [
      "              precision    recall  f1-score   support\n",
      "\n",
      "           0       0.29      0.04      0.07        48\n",
      "           1       0.76      0.28      0.41        47\n",
      "           2       0.98      0.82      0.89        50\n",
      "           3       0.34      0.98      0.51        50\n",
      "           4       0.67      0.67      0.67        45\n",
      "           5       0.94      0.67      0.78        48\n",
      "\n",
      "    accuracy                           0.58       288\n",
      "   macro avg       0.66      0.58      0.55       288\n",
      "weighted avg       0.66      0.58      0.56       288\n",
      "\n"
     ]
    }
   ],
   "source": [
    "y_predt = model.predict(x_train)\n",
    "print(classification_report(y_train, y_predt))"
   ]
  },
  {
   "cell_type": "code",
   "execution_count": 13,
   "metadata": {},
   "outputs": [
    {
     "name": "stdout",
     "output_type": "stream",
     "text": [
      "              precision    recall  f1-score   support\n",
      "\n",
      "           0       0.00      0.00      0.00        12\n",
      "           1       0.60      0.23      0.33        13\n",
      "           2       0.83      0.50      0.62        10\n",
      "           3       0.28      0.90      0.43        10\n",
      "           4       0.68      0.87      0.76        15\n",
      "           5       0.75      0.50      0.60        12\n",
      "\n",
      "    accuracy                           0.50        72\n",
      "   macro avg       0.52      0.50      0.46        72\n",
      "weighted avg       0.53      0.50      0.47        72\n",
      "\n"
     ]
    }
   ],
   "source": [
    "y_pred = model.predict(x_test)\n",
    "print(classification_report(y_test, y_pred))"
   ]
  },
  {
   "cell_type": "code",
   "execution_count": null,
   "metadata": {},
   "outputs": [],
   "source": [
    "## Hyperparameter Tuning "
   ]
  },
  {
   "cell_type": "code",
   "execution_count": null,
   "metadata": {},
   "outputs": [
    {
     "name": "stdout",
     "output_type": "stream",
     "text": [
      "Fitting 5 folds for each of 60 candidates, totalling 300 fits\n"
     ]
    }
   ],
   "source": [
    "parameters = {\n",
    "    'kernel': ['rbf', 'poly', 'sigmoid'],\n",
    "    'C': [0.5, 1, 10, 100],\n",
    "    'gamma': ['scale', 1, 0.1, 0.01, 0.001]\n",
    "}\n",
    "\n",
    "grid_search = GridSearchCV(estimator=SVC(random_state=0),\n",
    "                          param_grid = parameters,\n",
    "                          n_jobs=6,\n",
    "                          verbose=1,\n",
    "                          scoring='accuracy')\n",
    "grid_search.fit(x_train,y_train)\n"
   ]
  },
  {
   "cell_type": "code",
   "execution_count": null,
   "metadata": {},
   "outputs": [],
   "source": [
    "print(f'Best Score: {grid_search.best_score_}')\n",
    "\n",
    "best_params = grid_search.best_estimator_.get_params()\n",
    "print(f'Best Parameters:')\n",
    "for param in parameters:\n",
    "    print{f'\\t{param}: {best_params[param]}'}"
   ]
  },
  {
   "cell_type": "code",
   "execution_count": null,
   "metadata": {},
   "outputs": [],
   "source": [
    "y_predH = grid_search.predict(x_test)\n",
    "print(classification_report(y_test, y_predH))"
   ]
  },
  {
   "cell_type": "code",
   "execution_count": null,
   "metadata": {},
   "outputs": [],
   "source": []
  }
 ],
 "metadata": {
  "colab": {
   "name": "Baca_Koreksi_OpenBCI.ipynb",
   "provenance": []
  },
  "kernelspec": {
   "display_name": "Python 3",
   "language": "python",
   "name": "python3"
  },
  "language_info": {
   "codemirror_mode": {
    "name": "ipython",
    "version": 3
   },
   "file_extension": ".py",
   "mimetype": "text/x-python",
   "name": "python",
   "nbconvert_exporter": "python",
   "pygments_lexer": "ipython3",
   "version": "3.8.3"
  }
 },
 "nbformat": 4,
 "nbformat_minor": 5
}
